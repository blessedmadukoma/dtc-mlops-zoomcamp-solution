{
 "cells": [
  {
   "cell_type": "code",
   "execution_count": 16,
   "id": "c8870d97",
   "metadata": {},
   "outputs": [
    {
     "name": "stdout",
     "output_type": "stream",
     "text": [
      "Requirement already satisfied: pandas in /Users/blessedmadukoma/Desktop/Areas/ds_and_ml/mlops-zoomcamp-solution/.venv/lib/python3.11/site-packages (2.2.3)\n",
      "Requirement already satisfied: numpy in /Users/blessedmadukoma/Desktop/Areas/ds_and_ml/mlops-zoomcamp-solution/.venv/lib/python3.11/site-packages (2.2.5)\n",
      "Requirement already satisfied: matplotlib in /Users/blessedmadukoma/Desktop/Areas/ds_and_ml/mlops-zoomcamp-solution/.venv/lib/python3.11/site-packages (3.10.1)\n",
      "Requirement already satisfied: scikit-learn in /Users/blessedmadukoma/Desktop/Areas/ds_and_ml/mlops-zoomcamp-solution/.venv/lib/python3.11/site-packages (1.6.1)\n",
      "Requirement already satisfied: pyarrow in /Users/blessedmadukoma/Desktop/Areas/ds_and_ml/mlops-zoomcamp-solution/.venv/lib/python3.11/site-packages (20.0.0)\n",
      "Requirement already satisfied: python-dateutil>=2.8.2 in /Users/blessedmadukoma/Desktop/Areas/ds_and_ml/mlops-zoomcamp-solution/.venv/lib/python3.11/site-packages (from pandas) (2.9.0.post0)\n",
      "Requirement already satisfied: pytz>=2020.1 in /Users/blessedmadukoma/Desktop/Areas/ds_and_ml/mlops-zoomcamp-solution/.venv/lib/python3.11/site-packages (from pandas) (2025.2)\n",
      "Requirement already satisfied: tzdata>=2022.7 in /Users/blessedmadukoma/Desktop/Areas/ds_and_ml/mlops-zoomcamp-solution/.venv/lib/python3.11/site-packages (from pandas) (2025.2)\n",
      "Requirement already satisfied: contourpy>=1.0.1 in /Users/blessedmadukoma/Desktop/Areas/ds_and_ml/mlops-zoomcamp-solution/.venv/lib/python3.11/site-packages (from matplotlib) (1.3.2)\n",
      "Requirement already satisfied: cycler>=0.10 in /Users/blessedmadukoma/Desktop/Areas/ds_and_ml/mlops-zoomcamp-solution/.venv/lib/python3.11/site-packages (from matplotlib) (0.12.1)\n",
      "Requirement already satisfied: fonttools>=4.22.0 in /Users/blessedmadukoma/Desktop/Areas/ds_and_ml/mlops-zoomcamp-solution/.venv/lib/python3.11/site-packages (from matplotlib) (4.57.0)\n",
      "Requirement already satisfied: kiwisolver>=1.3.1 in /Users/blessedmadukoma/Desktop/Areas/ds_and_ml/mlops-zoomcamp-solution/.venv/lib/python3.11/site-packages (from matplotlib) (1.4.8)\n",
      "Requirement already satisfied: packaging>=20.0 in /Users/blessedmadukoma/Desktop/Areas/ds_and_ml/mlops-zoomcamp-solution/.venv/lib/python3.11/site-packages (from matplotlib) (25.0)\n",
      "Requirement already satisfied: pillow>=8 in /Users/blessedmadukoma/Desktop/Areas/ds_and_ml/mlops-zoomcamp-solution/.venv/lib/python3.11/site-packages (from matplotlib) (11.2.1)\n",
      "Requirement already satisfied: pyparsing>=2.3.1 in /Users/blessedmadukoma/Desktop/Areas/ds_and_ml/mlops-zoomcamp-solution/.venv/lib/python3.11/site-packages (from matplotlib) (3.2.3)\n",
      "Requirement already satisfied: scipy>=1.6.0 in /Users/blessedmadukoma/Desktop/Areas/ds_and_ml/mlops-zoomcamp-solution/.venv/lib/python3.11/site-packages (from scikit-learn) (1.15.2)\n",
      "Requirement already satisfied: joblib>=1.2.0 in /Users/blessedmadukoma/Desktop/Areas/ds_and_ml/mlops-zoomcamp-solution/.venv/lib/python3.11/site-packages (from scikit-learn) (1.5.0)\n",
      "Requirement already satisfied: threadpoolctl>=3.1.0 in /Users/blessedmadukoma/Desktop/Areas/ds_and_ml/mlops-zoomcamp-solution/.venv/lib/python3.11/site-packages (from scikit-learn) (3.6.0)\n",
      "Requirement already satisfied: six>=1.5 in /Users/blessedmadukoma/Desktop/Areas/ds_and_ml/mlops-zoomcamp-solution/.venv/lib/python3.11/site-packages (from python-dateutil>=2.8.2->pandas) (1.17.0)\n",
      "\n",
      "\u001b[1m[\u001b[0m\u001b[34;49mnotice\u001b[0m\u001b[1;39;49m]\u001b[0m\u001b[39;49m A new release of pip is available: \u001b[0m\u001b[31;49m23.2.1\u001b[0m\u001b[39;49m -> \u001b[0m\u001b[32;49m25.1.1\u001b[0m\n",
      "\u001b[1m[\u001b[0m\u001b[34;49mnotice\u001b[0m\u001b[1;39;49m]\u001b[0m\u001b[39;49m To update, run: \u001b[0m\u001b[32;49mpip install --upgrade pip\u001b[0m\n",
      "Note: you may need to restart the kernel to use updated packages.\n",
      "Note: you may need to restart the kernel to use updated packages.\n"
     ]
    }
   ],
   "source": [
    "%pip install pandas numpy matplotlib scikit-learn pyarrow\n",
    "\n",
    "%pip freeze > ../requirements.txt"
   ]
  },
  {
   "cell_type": "code",
   "execution_count": 17,
   "id": "372e01b1",
   "metadata": {},
   "outputs": [],
   "source": [
    "import pandas as pd\n",
    "import numpy as np\n",
    "import matplotlib.pyplot as plt\n",
    "from sklearn.feature_extraction import DictVectorizer\n",
    "from sklearn.linear_model import LinearRegression\n",
    "from sklearn.metrics import root_mean_squared_error"
   ]
  },
  {
   "cell_type": "markdown",
   "id": "ede60173",
   "metadata": {},
   "source": [
    "## Dataset Exploration"
   ]
  },
  {
   "cell_type": "code",
   "execution_count": 18,
   "id": "2e0b6f1c",
   "metadata": {},
   "outputs": [],
   "source": [
    "\"\"\"2023 dataset\"\"\"\n",
    "january_trips_df = pd.read_parquet(\"https://d37ci6vzurychx.cloudfront.net/trip-data/yellow_tripdata_2023-01.parquet\")\n",
    "\n",
    "february_trips_df = pd.read_parquet(\"https://d37ci6vzurychx.cloudfront.net/trip-data/yellow_tripdata_2023-02.parquet\")"
   ]
  },
  {
   "cell_type": "code",
   "execution_count": 19,
   "id": "a6eb9a93",
   "metadata": {},
   "outputs": [
    {
     "data": {
      "application/vnd.microsoft.datawrangler.viewer.v0+json": {
       "columns": [
        {
         "name": "index",
         "rawType": "int64",
         "type": "integer"
        },
        {
         "name": "VendorID",
         "rawType": "int64",
         "type": "integer"
        },
        {
         "name": "tpep_pickup_datetime",
         "rawType": "datetime64[us]",
         "type": "unknown"
        },
        {
         "name": "tpep_dropoff_datetime",
         "rawType": "datetime64[us]",
         "type": "unknown"
        },
        {
         "name": "passenger_count",
         "rawType": "float64",
         "type": "float"
        },
        {
         "name": "trip_distance",
         "rawType": "float64",
         "type": "float"
        },
        {
         "name": "RatecodeID",
         "rawType": "float64",
         "type": "float"
        },
        {
         "name": "store_and_fwd_flag",
         "rawType": "object",
         "type": "string"
        },
        {
         "name": "PULocationID",
         "rawType": "int64",
         "type": "integer"
        },
        {
         "name": "DOLocationID",
         "rawType": "int64",
         "type": "integer"
        },
        {
         "name": "payment_type",
         "rawType": "int64",
         "type": "integer"
        },
        {
         "name": "fare_amount",
         "rawType": "float64",
         "type": "float"
        },
        {
         "name": "extra",
         "rawType": "float64",
         "type": "float"
        },
        {
         "name": "mta_tax",
         "rawType": "float64",
         "type": "float"
        },
        {
         "name": "tip_amount",
         "rawType": "float64",
         "type": "float"
        },
        {
         "name": "tolls_amount",
         "rawType": "float64",
         "type": "float"
        },
        {
         "name": "improvement_surcharge",
         "rawType": "float64",
         "type": "float"
        },
        {
         "name": "total_amount",
         "rawType": "float64",
         "type": "float"
        },
        {
         "name": "congestion_surcharge",
         "rawType": "float64",
         "type": "float"
        },
        {
         "name": "airport_fee",
         "rawType": "float64",
         "type": "float"
        }
       ],
       "conversionMethod": "pd.DataFrame",
       "ref": "6850222d-fcc8-4b9f-88b5-4aaa1cedc27e",
       "rows": [
        [
         "0",
         "2",
         "2023-01-01 00:32:10",
         "2023-01-01 00:40:36",
         "1.0",
         "0.97",
         "1.0",
         "N",
         "161",
         "141",
         "2",
         "9.3",
         "1.0",
         "0.5",
         "0.0",
         "0.0",
         "1.0",
         "14.3",
         "2.5",
         "0.0"
        ],
        [
         "1",
         "2",
         "2023-01-01 00:55:08",
         "2023-01-01 01:01:27",
         "1.0",
         "1.1",
         "1.0",
         "N",
         "43",
         "237",
         "1",
         "7.9",
         "1.0",
         "0.5",
         "4.0",
         "0.0",
         "1.0",
         "16.9",
         "2.5",
         "0.0"
        ],
        [
         "2",
         "2",
         "2023-01-01 00:25:04",
         "2023-01-01 00:37:49",
         "1.0",
         "2.51",
         "1.0",
         "N",
         "48",
         "238",
         "1",
         "14.9",
         "1.0",
         "0.5",
         "15.0",
         "0.0",
         "1.0",
         "34.9",
         "2.5",
         "0.0"
        ],
        [
         "3",
         "1",
         "2023-01-01 00:03:48",
         "2023-01-01 00:13:25",
         "0.0",
         "1.9",
         "1.0",
         "N",
         "138",
         "7",
         "1",
         "12.1",
         "7.25",
         "0.5",
         "0.0",
         "0.0",
         "1.0",
         "20.85",
         "0.0",
         "1.25"
        ],
        [
         "4",
         "2",
         "2023-01-01 00:10:29",
         "2023-01-01 00:21:19",
         "1.0",
         "1.43",
         "1.0",
         "N",
         "107",
         "79",
         "1",
         "11.4",
         "1.0",
         "0.5",
         "3.28",
         "0.0",
         "1.0",
         "19.68",
         "2.5",
         "0.0"
        ]
       ],
       "shape": {
        "columns": 19,
        "rows": 5
       }
      },
      "text/html": [
       "<div>\n",
       "<style scoped>\n",
       "    .dataframe tbody tr th:only-of-type {\n",
       "        vertical-align: middle;\n",
       "    }\n",
       "\n",
       "    .dataframe tbody tr th {\n",
       "        vertical-align: top;\n",
       "    }\n",
       "\n",
       "    .dataframe thead th {\n",
       "        text-align: right;\n",
       "    }\n",
       "</style>\n",
       "<table border=\"1\" class=\"dataframe\">\n",
       "  <thead>\n",
       "    <tr style=\"text-align: right;\">\n",
       "      <th></th>\n",
       "      <th>VendorID</th>\n",
       "      <th>tpep_pickup_datetime</th>\n",
       "      <th>tpep_dropoff_datetime</th>\n",
       "      <th>passenger_count</th>\n",
       "      <th>trip_distance</th>\n",
       "      <th>RatecodeID</th>\n",
       "      <th>store_and_fwd_flag</th>\n",
       "      <th>PULocationID</th>\n",
       "      <th>DOLocationID</th>\n",
       "      <th>payment_type</th>\n",
       "      <th>fare_amount</th>\n",
       "      <th>extra</th>\n",
       "      <th>mta_tax</th>\n",
       "      <th>tip_amount</th>\n",
       "      <th>tolls_amount</th>\n",
       "      <th>improvement_surcharge</th>\n",
       "      <th>total_amount</th>\n",
       "      <th>congestion_surcharge</th>\n",
       "      <th>airport_fee</th>\n",
       "    </tr>\n",
       "  </thead>\n",
       "  <tbody>\n",
       "    <tr>\n",
       "      <th>0</th>\n",
       "      <td>2</td>\n",
       "      <td>2023-01-01 00:32:10</td>\n",
       "      <td>2023-01-01 00:40:36</td>\n",
       "      <td>1.0</td>\n",
       "      <td>0.97</td>\n",
       "      <td>1.0</td>\n",
       "      <td>N</td>\n",
       "      <td>161</td>\n",
       "      <td>141</td>\n",
       "      <td>2</td>\n",
       "      <td>9.3</td>\n",
       "      <td>1.00</td>\n",
       "      <td>0.5</td>\n",
       "      <td>0.00</td>\n",
       "      <td>0.0</td>\n",
       "      <td>1.0</td>\n",
       "      <td>14.30</td>\n",
       "      <td>2.5</td>\n",
       "      <td>0.00</td>\n",
       "    </tr>\n",
       "    <tr>\n",
       "      <th>1</th>\n",
       "      <td>2</td>\n",
       "      <td>2023-01-01 00:55:08</td>\n",
       "      <td>2023-01-01 01:01:27</td>\n",
       "      <td>1.0</td>\n",
       "      <td>1.10</td>\n",
       "      <td>1.0</td>\n",
       "      <td>N</td>\n",
       "      <td>43</td>\n",
       "      <td>237</td>\n",
       "      <td>1</td>\n",
       "      <td>7.9</td>\n",
       "      <td>1.00</td>\n",
       "      <td>0.5</td>\n",
       "      <td>4.00</td>\n",
       "      <td>0.0</td>\n",
       "      <td>1.0</td>\n",
       "      <td>16.90</td>\n",
       "      <td>2.5</td>\n",
       "      <td>0.00</td>\n",
       "    </tr>\n",
       "    <tr>\n",
       "      <th>2</th>\n",
       "      <td>2</td>\n",
       "      <td>2023-01-01 00:25:04</td>\n",
       "      <td>2023-01-01 00:37:49</td>\n",
       "      <td>1.0</td>\n",
       "      <td>2.51</td>\n",
       "      <td>1.0</td>\n",
       "      <td>N</td>\n",
       "      <td>48</td>\n",
       "      <td>238</td>\n",
       "      <td>1</td>\n",
       "      <td>14.9</td>\n",
       "      <td>1.00</td>\n",
       "      <td>0.5</td>\n",
       "      <td>15.00</td>\n",
       "      <td>0.0</td>\n",
       "      <td>1.0</td>\n",
       "      <td>34.90</td>\n",
       "      <td>2.5</td>\n",
       "      <td>0.00</td>\n",
       "    </tr>\n",
       "    <tr>\n",
       "      <th>3</th>\n",
       "      <td>1</td>\n",
       "      <td>2023-01-01 00:03:48</td>\n",
       "      <td>2023-01-01 00:13:25</td>\n",
       "      <td>0.0</td>\n",
       "      <td>1.90</td>\n",
       "      <td>1.0</td>\n",
       "      <td>N</td>\n",
       "      <td>138</td>\n",
       "      <td>7</td>\n",
       "      <td>1</td>\n",
       "      <td>12.1</td>\n",
       "      <td>7.25</td>\n",
       "      <td>0.5</td>\n",
       "      <td>0.00</td>\n",
       "      <td>0.0</td>\n",
       "      <td>1.0</td>\n",
       "      <td>20.85</td>\n",
       "      <td>0.0</td>\n",
       "      <td>1.25</td>\n",
       "    </tr>\n",
       "    <tr>\n",
       "      <th>4</th>\n",
       "      <td>2</td>\n",
       "      <td>2023-01-01 00:10:29</td>\n",
       "      <td>2023-01-01 00:21:19</td>\n",
       "      <td>1.0</td>\n",
       "      <td>1.43</td>\n",
       "      <td>1.0</td>\n",
       "      <td>N</td>\n",
       "      <td>107</td>\n",
       "      <td>79</td>\n",
       "      <td>1</td>\n",
       "      <td>11.4</td>\n",
       "      <td>1.00</td>\n",
       "      <td>0.5</td>\n",
       "      <td>3.28</td>\n",
       "      <td>0.0</td>\n",
       "      <td>1.0</td>\n",
       "      <td>19.68</td>\n",
       "      <td>2.5</td>\n",
       "      <td>0.00</td>\n",
       "    </tr>\n",
       "  </tbody>\n",
       "</table>\n",
       "</div>"
      ],
      "text/plain": [
       "   VendorID tpep_pickup_datetime tpep_dropoff_datetime  passenger_count  \\\n",
       "0         2  2023-01-01 00:32:10   2023-01-01 00:40:36              1.0   \n",
       "1         2  2023-01-01 00:55:08   2023-01-01 01:01:27              1.0   \n",
       "2         2  2023-01-01 00:25:04   2023-01-01 00:37:49              1.0   \n",
       "3         1  2023-01-01 00:03:48   2023-01-01 00:13:25              0.0   \n",
       "4         2  2023-01-01 00:10:29   2023-01-01 00:21:19              1.0   \n",
       "\n",
       "   trip_distance  RatecodeID store_and_fwd_flag  PULocationID  DOLocationID  \\\n",
       "0           0.97         1.0                  N           161           141   \n",
       "1           1.10         1.0                  N            43           237   \n",
       "2           2.51         1.0                  N            48           238   \n",
       "3           1.90         1.0                  N           138             7   \n",
       "4           1.43         1.0                  N           107            79   \n",
       "\n",
       "   payment_type  fare_amount  extra  mta_tax  tip_amount  tolls_amount  \\\n",
       "0             2          9.3   1.00      0.5        0.00           0.0   \n",
       "1             1          7.9   1.00      0.5        4.00           0.0   \n",
       "2             1         14.9   1.00      0.5       15.00           0.0   \n",
       "3             1         12.1   7.25      0.5        0.00           0.0   \n",
       "4             1         11.4   1.00      0.5        3.28           0.0   \n",
       "\n",
       "   improvement_surcharge  total_amount  congestion_surcharge  airport_fee  \n",
       "0                    1.0         14.30                   2.5         0.00  \n",
       "1                    1.0         16.90                   2.5         0.00  \n",
       "2                    1.0         34.90                   2.5         0.00  \n",
       "3                    1.0         20.85                   0.0         1.25  \n",
       "4                    1.0         19.68                   2.5         0.00  "
      ]
     },
     "execution_count": 19,
     "metadata": {},
     "output_type": "execute_result"
    }
   ],
   "source": [
    "january_trips_df.head()"
   ]
  },
  {
   "cell_type": "code",
   "execution_count": 20,
   "id": "5c7bad63",
   "metadata": {},
   "outputs": [
    {
     "data": {
      "text/plain": [
       "Index(['VendorID', 'tpep_pickup_datetime', 'tpep_dropoff_datetime',\n",
       "       'passenger_count', 'trip_distance', 'RatecodeID', 'store_and_fwd_flag',\n",
       "       'PULocationID', 'DOLocationID', 'payment_type', 'fare_amount', 'extra',\n",
       "       'mta_tax', 'tip_amount', 'tolls_amount', 'improvement_surcharge',\n",
       "       'total_amount', 'congestion_surcharge', 'airport_fee'],\n",
       "      dtype='object')"
      ]
     },
     "execution_count": 20,
     "metadata": {},
     "output_type": "execute_result"
    }
   ],
   "source": [
    "january_trips_df.columns"
   ]
  },
  {
   "cell_type": "code",
   "execution_count": 21,
   "id": "8cb3b324",
   "metadata": {},
   "outputs": [
    {
     "name": "stdout",
     "output_type": "stream",
     "text": [
      "<class 'pandas.core.frame.DataFrame'>\n",
      "RangeIndex: 3066766 entries, 0 to 3066765\n",
      "Data columns (total 19 columns):\n",
      " #   Column                 Dtype         \n",
      "---  ------                 -----         \n",
      " 0   VendorID               int64         \n",
      " 1   tpep_pickup_datetime   datetime64[us]\n",
      " 2   tpep_dropoff_datetime  datetime64[us]\n",
      " 3   passenger_count        float64       \n",
      " 4   trip_distance          float64       \n",
      " 5   RatecodeID             float64       \n",
      " 6   store_and_fwd_flag     object        \n",
      " 7   PULocationID           int64         \n",
      " 8   DOLocationID           int64         \n",
      " 9   payment_type           int64         \n",
      " 10  fare_amount            float64       \n",
      " 11  extra                  float64       \n",
      " 12  mta_tax                float64       \n",
      " 13  tip_amount             float64       \n",
      " 14  tolls_amount           float64       \n",
      " 15  improvement_surcharge  float64       \n",
      " 16  total_amount           float64       \n",
      " 17  congestion_surcharge   float64       \n",
      " 18  airport_fee            float64       \n",
      "dtypes: datetime64[us](2), float64(12), int64(4), object(1)\n",
      "memory usage: 444.6+ MB\n"
     ]
    }
   ],
   "source": [
    "january_trips_df.info()"
   ]
  },
  {
   "cell_type": "markdown",
   "id": "38088631",
   "metadata": {},
   "source": [
    "**Question 1 - Downloading the data:**\n",
    "- How many columns are there?"
   ]
  },
  {
   "cell_type": "code",
   "execution_count": 22,
   "id": "454535fa",
   "metadata": {},
   "outputs": [
    {
     "name": "stdout",
     "output_type": "stream",
     "text": [
      "There are 19 columns in January\n"
     ]
    }
   ],
   "source": [
    "print(f\"There are {january_trips_df.shape[1]} columns in January\")"
   ]
  },
  {
   "cell_type": "markdown",
   "id": "60284d86",
   "metadata": {},
   "source": [
    "**Question 2 - Computing duration:**\n",
    "- Compute the trip duration.\n",
    "- What is the standard deviation of the trips duration duration in January?"
   ]
  },
  {
   "cell_type": "code",
   "execution_count": 23,
   "id": "bf329b46",
   "metadata": {},
   "outputs": [],
   "source": [
    "january_trips_df[\"duration_minutes\"] = (january_trips_df['tpep_dropoff_datetime'] - january_trips_df['tpep_pickup_datetime']).dt.total_seconds() / 60"
   ]
  },
  {
   "cell_type": "code",
   "execution_count": 24,
   "id": "671599b6",
   "metadata": {},
   "outputs": [
    {
     "name": "stdout",
     "output_type": "stream",
     "text": [
      "The standard deviation of trips duration in january: 42.59\n"
     ]
    }
   ],
   "source": [
    "print(f\"The standard deviation of trips duration in january: {round(january_trips_df['duration_minutes'].std(), 2)}\")"
   ]
  },
  {
   "cell_type": "markdown",
   "id": "dccf3aa0",
   "metadata": {},
   "source": [
    "**Question 3 - Dropping outliers:**\n",
    "- Check the distribution of the duration\n",
    "- Remove outliers (any record not within 1 and 60 minutes (inclusive))\n",
    "- What fraction of the records left after you dropped the outliers?"
   ]
  },
  {
   "cell_type": "code",
   "execution_count": 25,
   "id": "19a3365b",
   "metadata": {},
   "outputs": [],
   "source": [
    "class Plot:\n",
    "    def __init__(self):\n",
    "        pass\n",
    "\n",
    "    def plot_histogram(self, df: pd.DataFrame, column: str, x_label: str = \"x axis\", y_label: str  = \"y axis\", title: str = \"histogram distribution\", color: str = \"blue\", log: bool = False):\n",
    "        # plot histogram\n",
    "        plt.hist(df[column], color=color, log=log, density=True)\n",
    "\n",
    "        plt.xlabel(x_label)\n",
    "        plt.ylabel(y_label)\n",
    "\n",
    "        plt.title(title)\n",
    "        \n",
    "        plt.grid(alpha=0.3)\n",
    "        \n",
    "        plt.tight_layout()\n",
    "\n",
    "        plt.show()"
   ]
  },
  {
   "cell_type": "code",
   "execution_count": 26,
   "id": "6327ba53",
   "metadata": {},
   "outputs": [
    {
     "data": {
      "image/png": "[encoded data removed]",
      "text/plain": [
       "<Figure size 640x480 with 1 Axes>"
      ]
     },
     "metadata": {},
     "output_type": "display_data"
    }
   ],
   "source": [
    "plot = Plot()\n",
    "\n",
    "# plot histogram to show the distribution of the duration\n",
    "plot.plot_histogram(\n",
    "    january_trips_df, \n",
    "    \"duration_minutes\",\n",
    "    \"Duration (minutes)\",\n",
    "    \"Frequency\",\n",
    "    \"Distribution of Duration\",\n",
    "    log=True\n",
    ")"
   ]
  },
  {
   "cell_type": "code",
   "execution_count": 27,
   "id": "619d9c69",
   "metadata": {},
   "outputs": [],
   "source": [
    "\"\"\"remove outliers\"\"\"\n",
    "# outliers = january_trips_df[(january_trips_df['duration_minutes'] < 1) | (january_trips_df['duration_minutes'] > 60)]\n",
    "\n",
    "# valid_df = january_trips_df[~january_trips_df.index.isin(outliers.index)]\n",
    "\n",
    "def filter_outliers(df: pd.DataFrame, cols: list, rules: list):\n",
    "    outliers = pd.DataFrame()\n",
    "    for col, rule in zip(cols, rules):\n",
    "        if rule.get(\"min\") is not None:\n",
    "            outliers = pd.concat([outliers, df[df[col] < rule[\"min\"]]])\n",
    "        if rule.get(\"max\") is not None:\n",
    "            outliers = pd.concat([outliers, df[df[col] > rule[\"max\"]]])\n",
    "    outliers = outliers.drop_duplicates()\n",
    "\n",
    "    valid_df = df[~df.index.isin(outliers.index)]\n",
    "\n",
    "    return outliers, valid_df\n",
    "    "
   ]
  },
  {
   "cell_type": "code",
   "execution_count": 28,
   "id": "99a9063c",
   "metadata": {},
   "outputs": [],
   "source": [
    "outliers, valid_df = filter_outliers(\n",
    "        january_trips_df,\n",
    "        cols=[\"duration_minutes\"],\n",
    "        rules=[{\"min\": 1, \"max\": 60}]\n",
    "    )"
   ]
  },
  {
   "cell_type": "code",
   "execution_count": 29,
   "id": "0cc3e7f1",
   "metadata": {},
   "outputs": [
    {
     "name": "stdout",
     "output_type": "stream",
     "text": [
      "3009173\n",
      "57593\n"
     ]
    }
   ],
   "source": [
    "print(len(valid_df))\n",
    "print(len(outliers))"
   ]
  },
  {
   "cell_type": "code",
   "execution_count": 30,
   "id": "8261888f",
   "metadata": {},
   "outputs": [
    {
     "name": "stdout",
     "output_type": "stream",
     "text": [
      "The fraction of the records left after dropping outliers is: 98%\n"
     ]
    }
   ],
   "source": [
    "valid_fraction = (len(valid_df) / len(january_trips_df)) * 100\n",
    "\n",
    "print(f\"The fraction of the records left after dropping outliers is: {round(valid_fraction)}%\")"
   ]
  },
  {
   "cell_type": "markdown",
   "id": "d86f2744",
   "metadata": {},
   "source": [
    "**Question 4 - One-hot encoding:**\n",
    "- apply one-hot encoding to the pickup and dropoff location IDs (these two features will be used for the model)\n",
    "- Turn the dataframe into a list of dictionaries (remember to re-cast the ids to strings - otherwise it will label encode them)\n",
    "- Fit a dictionary vectorizer\n",
    "- Get a feature matrix from it\n",
    "- What's the dimensionality of this matrix (number of columns)?"
   ]
  },
  {
   "cell_type": "code",
   "execution_count": 31,
   "id": "1b52e694",
   "metadata": {},
   "outputs": [],
   "source": [
    "def apply_one_hot_encoding(df: pd.DataFrame, cols: list = ['PULocationID', 'DOLocationID']):\n",
    "    for col in cols:\n",
    "        df[col] = df[col].astype(str)\n",
    "\n",
    "    # convert to records\n",
    "    records = df[cols].to_dict(\"records\")\n",
    "\n",
    "    # add prefix\n",
    "    for record in records:\n",
    "        record['pickup_' + record.pop('PULocationID')] = 1\n",
    "        record['dropoff_' + record.pop('DOLocationID')] = 1\n",
    "\n",
    "    # apply DictVectorizer\n",
    "    vectorizer = DictVectorizer(sparse=True)\n",
    "\n",
    "    vectorizer.fit(records)\n",
    "\n",
    "    # get the feature matrix\n",
    "    feature_matrix = vectorizer.transform(records)\n",
    "\n",
    "    feature_names = vectorizer.get_feature_names_out()\n",
    "\n",
    "    return feature_matrix, vectorizer, feature_names"
   ]
  },
  {
   "cell_type": "code",
   "execution_count": 32,
   "id": "e00c2960",
   "metadata": {},
   "outputs": [
    {
     "name": "stderr",
     "output_type": "stream",
     "text": [
      "/var/folders/7y/6bp46ck12x1bnxnr0d6pcs440000gn/T/ipykernel_7420/741574140.py:3: SettingWithCopyWarning: \n",
      "A value is trying to be set on a copy of a slice from a DataFrame.\n",
      "Try using .loc[row_indexer,col_indexer] = value instead\n",
      "\n",
      "See the caveats in the documentation: https://pandas.pydata.org/pandas-docs/stable/user_guide/indexing.html#returning-a-view-versus-a-copy\n",
      "  df[col] = df[col].astype(str)\n",
      "/var/folders/7y/6bp46ck12x1bnxnr0d6pcs440000gn/T/ipykernel_7420/741574140.py:3: SettingWithCopyWarning: \n",
      "A value is trying to be set on a copy of a slice from a DataFrame.\n",
      "Try using .loc[row_indexer,col_indexer] = value instead\n",
      "\n",
      "See the caveats in the documentation: https://pandas.pydata.org/pandas-docs/stable/user_guide/indexing.html#returning-a-view-versus-a-copy\n",
      "  df[col] = df[col].astype(str)\n"
     ]
    }
   ],
   "source": [
    "# encoder = OneHotEncoder(sparse_output=False)\n",
    "\n",
    "# categorical_columns = [\"PULocationID\", \"DOLocationID\"]\n",
    "\n",
    "# one_hot_encoded = encoder.fit_transform(valid_df[[\"PULocationID\", \"DOLocationID\"]])\n",
    "# one_hot_df = pd.DataFrame(one_hot_encoded, columns=encoder.get_feature_names_out(categorical_columns))\n",
    "\n",
    "feature_matrix, vectorizer, feature_names = apply_one_hot_encoding(valid_df, cols=[\"PULocationID\", \"DOLocationID\"])"
   ]
  },
  {
   "cell_type": "code",
   "execution_count": 33,
   "id": "602dbd3f",
   "metadata": {},
   "outputs": [
    {
     "name": "stdout",
     "output_type": "stream",
     "text": [
      "Feature matrix shape: (3009173, 515)\n",
      "Number of features: 515\n",
      "Dimensionality of this matrix (number of columns): 515\n"
     ]
    }
   ],
   "source": [
    "print(f\"Feature matrix shape: {feature_matrix.shape}\")\n",
    "print(f\"Number of features: {len(feature_names)}\")\n",
    "print(f\"Dimensionality of this matrix (number of columns): {feature_matrix.shape[1]}\")\n",
    "# print(f\"First 10 feature names: {feature_names[:10]}\")\n",
    "# print(f\"Feature matrix (first 3 rows):\\n{feature_matrix[:3].toarray()}\")"
   ]
  },
  {
   "cell_type": "markdown",
   "id": "e6529e70",
   "metadata": {},
   "source": [
    "**Question 5 - Training a model:**\n",
    "- use the feature matrix from the previous step to train a model.\n",
    "- Train a plain linear regression model with default parameters, where duration is the response variable\n",
    "- Calculate the RMSE of the model on the training data\n",
    "- What's the RMSE on train?"
   ]
  },
  {
   "cell_type": "code",
   "execution_count": 34,
   "id": "dc3e38a3",
   "metadata": {},
   "outputs": [],
   "source": [
    "X = feature_matrix\n",
    "y = valid_df['duration_minutes'].values"
   ]
  },
  {
   "cell_type": "code",
   "execution_count": 35,
   "id": "b5a7c996",
   "metadata": {},
   "outputs": [],
   "source": [
    "lr_model = LinearRegression()\n",
    "\n",
    "lr_model.fit(X, y)\n",
    "\n",
    "y_pred = lr_model.predict(X)"
   ]
  },
  {
   "cell_type": "code",
   "execution_count": 36,
   "id": "f3058e0c",
   "metadata": {},
   "outputs": [
    {
     "name": "stdout",
     "output_type": "stream",
     "text": [
      "The RMSE on the train data (january - vectorized) is: 7.65\n"
     ]
    }
   ],
   "source": [
    "print(f\"The RMSE on the train data (january - vectorized) is: {round(root_mean_squared_error(y, y_pred), 2)}\")"
   ]
  },
  {
   "cell_type": "markdown",
   "id": "b29cd1b9",
   "metadata": {},
   "source": [
    "Q6. Evaluating the model\n",
    "- Now let's apply this model to the validation dataset (February 2023).\n",
    "- What's the RMSE on validation?"
   ]
  },
  {
   "cell_type": "code",
   "execution_count": 37,
   "id": "87b75c76",
   "metadata": {},
   "outputs": [],
   "source": [
    "february_trips_df[\"duration_minutes\"] = (february_trips_df['tpep_dropoff_datetime'] - february_trips_df['tpep_pickup_datetime']).dt.total_seconds() / 60"
   ]
  },
  {
   "cell_type": "code",
   "execution_count": 38,
   "id": "2e9e0b32",
   "metadata": {},
   "outputs": [],
   "source": [
    "feature_matrix, vectorizer, feature_names = apply_one_hot_encoding(february_trips_df)"
   ]
  },
  {
   "cell_type": "code",
   "execution_count": 39,
   "id": "3f6bf1ef",
   "metadata": {},
   "outputs": [],
   "source": [
    "X = feature_matrix\n",
    "y = february_trips_df['duration_minutes'].values"
   ]
  },
  {
   "cell_type": "code",
   "execution_count": 40,
   "id": "bdaf69c2",
   "metadata": {},
   "outputs": [],
   "source": [
    "# Remove outliers from february_trips_df\n",
    "feb_outliers, feb_valid_df = filter_outliers(\n",
    "        february_trips_df,\n",
    "        cols=[\"duration_minutes\"],\n",
    "        rules=[{\"min\": 1, \"max\": 60}]\n",
    ")"
   ]
  },
  {
   "cell_type": "code",
   "execution_count": 41,
   "id": "a4225c0f",
   "metadata": {},
   "outputs": [
    {
     "name": "stderr",
     "output_type": "stream",
     "text": [
      "/var/folders/7y/6bp46ck12x1bnxnr0d6pcs440000gn/T/ipykernel_7420/741574140.py:3: SettingWithCopyWarning: \n",
      "A value is trying to be set on a copy of a slice from a DataFrame.\n",
      "Try using .loc[row_indexer,col_indexer] = value instead\n",
      "\n",
      "See the caveats in the documentation: https://pandas.pydata.org/pandas-docs/stable/user_guide/indexing.html#returning-a-view-versus-a-copy\n",
      "  df[col] = df[col].astype(str)\n",
      "/var/folders/7y/6bp46ck12x1bnxnr0d6pcs440000gn/T/ipykernel_7420/741574140.py:3: SettingWithCopyWarning: \n",
      "A value is trying to be set on a copy of a slice from a DataFrame.\n",
      "Try using .loc[row_indexer,col_indexer] = value instead\n",
      "\n",
      "See the caveats in the documentation: https://pandas.pydata.org/pandas-docs/stable/user_guide/indexing.html#returning-a-view-versus-a-copy\n",
      "  df[col] = df[col].astype(str)\n"
     ]
    }
   ],
   "source": [
    "# Apply one-hot encoding to filtered dataframe\n",
    "feature_matrix, _, _ = apply_one_hot_encoding(feb_valid_df, cols=[\"PULocationID\", \"DOLocationID\"])"
   ]
  },
  {
   "cell_type": "code",
   "execution_count": 42,
   "id": "ea62bf24",
   "metadata": {},
   "outputs": [],
   "source": [
    "X = feature_matrix\n",
    "y = feb_valid_df['duration_minutes'].values\n",
    "\n",
    "lr_model.fit(X, y)\n",
    "y_pred = lr_model.predict(X)"
   ]
  },
  {
   "cell_type": "code",
   "execution_count": 43,
   "id": "c80f3782",
   "metadata": {},
   "outputs": [
    {
     "name": "stdout",
     "output_type": "stream",
     "text": [
      "The RMSE on the validation data (february - vectorized) is: 7.78\n"
     ]
    }
   ],
   "source": [
    "print(f\"The RMSE on the validation data (february - vectorized) is: {round(root_mean_squared_error(y, y_pred), 2)}\")"
   ]
  }
 ],
 "metadata": {
  "kernelspec": {
   "display_name": ".venv",
   "language": "python",
   "name": "python3"
  },
  "language_info": {
   "codemirror_mode": {
    "name": "ipython",
    "version": 3
   },
   "file_extension": ".py",
   "mimetype": "text/x-python",
   "name": "python",
   "nbconvert_exporter": "python",
   "pygments_lexer": "ipython3",
   "version": "3.11.7"
  }
 },
 "nbformat": 4,
 "nbformat_minor": 5
}
