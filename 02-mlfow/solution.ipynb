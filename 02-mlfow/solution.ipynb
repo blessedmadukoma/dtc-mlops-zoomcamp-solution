{
 "cells": [
  {
   "cell_type": "markdown",
   "id": "4a259529",
   "metadata": {},
   "source": [
    "# Homework 2: Experiment Tracking"
   ]
  },
  {
   "cell_type": "markdown",
   "id": "836960fe",
   "metadata": {},
   "source": [
    "## Question 1:\n",
    "What's the version that you have?"
   ]
  },
  {
   "cell_type": "code",
   "execution_count": 2,
   "id": "dc3e9fdd",
   "metadata": {},
   "outputs": [
    {
     "name": "stdout",
     "output_type": "stream",
     "text": [
      "mlflow, version 2.22.0\n"
     ]
    }
   ],
   "source": [
    "!mlflow --version"
   ]
  },
  {
   "cell_type": "markdown",
   "id": "f819ff5d",
   "metadata": {},
   "source": [
    "## Question 2:\n",
    "How many files were saved to OUTPUT_FOLDER?"
   ]
  },
  {
   "cell_type": "code",
   "execution_count": 5,
   "id": "b3771be9",
   "metadata": {},
   "outputs": [
    {
     "name": "stdout",
     "output_type": "stream",
     "text": [
      "Number of files in ./output: 4\n"
     ]
    }
   ],
   "source": [
    "import os\n",
    "OUTPUT_FOLDER = \"./output\"\n",
    "num_files = len(os.listdir(OUTPUT_FOLDER))\n",
    "print(f\"Number of files in {OUTPUT_FOLDER}: {num_files}\")"
   ]
  },
  {
   "cell_type": "markdown",
   "id": "4a52b6bd",
   "metadata": {},
   "source": [
    "## Question 3:\n",
    "What is the value of the min_samples_split parameter:\n",
    "**Answer:** 2\n",
    "\n",
    "## Question 4:\n",
    "In addition to backend-store-uri, what else do you need to pass to properly configure the server?\n",
    "- **Answer: default-artifact-root**\n",
    "- serve-artifacts\n",
    "- artifacts-only\n",
    "- artifacts-destination\n",
    "\n",
    "## Q5. Tune model hyperparameters:\n",
    "What's the best validation RMSE that you got?\n",
    "- 4.817\n",
    "- **Answer:** 5.335\n",
    "- 5.818\n",
    "- 6.336\n",
    "\n",
    "## Q6. Promote the best model to the model registry\n",
    "What is the test RMSE of the best model?\n",
    "- 5.060\n",
    "- **Answer:** 5.567\n",
    "- 6.061\n",
    "- 6.568\n",
    "\n",
    "\n"
   ]
  }
 ],
 "metadata": {
  "kernelspec": {
   "display_name": ".venv",
   "language": "python",
   "name": "python3"
  },
  "language_info": {
   "codemirror_mode": {
    "name": "ipython",
    "version": 3
   },
   "file_extension": ".py",
   "mimetype": "text/x-python",
   "name": "python",
   "nbconvert_exporter": "python",
   "pygments_lexer": "ipython3",
   "version": "3.11.7"
  }
 },
 "nbformat": 4,
 "nbformat_minor": 5
}
